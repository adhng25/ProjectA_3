{
 "cells": [
  {
   "cell_type": "markdown",
   "id": "2cf6a5b3-c44f-4dfb-9433-b4717c072272",
   "metadata": {
    "tags": []
   },
   "source": [
    "# Lab 7 - Collaboration Lab"
   ]
  },
  {
   "cell_type": "markdown",
   "id": "19027ccd-36de-4044-ba9f-a28b35efae89",
   "metadata": {},
   "source": [
    "This lab is going to be quite different from the previous ones. \n",
    "\n",
    "You will work in teams of two to create a python mini-package. Details on what that package must accomplish and how it must be organized will be included. Consider these a set of requirements given to you by a client that you must satisfy.\n",
    "\n",
    "This package will have a few parts to it, and you must divide up the work so that both members of the team contribute functions to the package. You must document the package in detail with both comments and a README that describes how to use it.\n",
    "\n",
    "Once you are finished with this package, you will turn in the following things in the following way:\n",
    "\n",
    "1. You will turn in on GitHub a shared Jupyter notebook (.ipynb) and Python file (.py). The Python file will contain your package (with code and comments) and the Jupyter notebook will import your package and document how it works.\n",
    "\n",
    "2. You will also turn in via GitHub a version of the package (just the .py file) where you have deleted *all the code you wrote* leaving only the comments. **You may leave function definitions, but none of the code below them.**"
   ]
  },
  {
   "cell_type": "markdown",
   "id": "22605f0c-f4d5-4be1-8457-3da533fa2d0b",
   "metadata": {},
   "source": []
  },
  {
   "cell_type": "markdown",
   "id": "96c905e6-c6a3-4e2d-bbe4-b312912ab616",
   "metadata": {},
   "source": [
    "You will be working collaboratively on this project, so you should use version control.\n",
    "\n",
    "<div class=\"alert alert-info\"> Exercise 1:\n",
    "\n",
    "If you have not yet created a [GitHub account](https://github.com/), do so now. \n",
    "\n",
    "Once every member of your team has a GitHub account, one member of the team should create a *private* repo for the project. Come up with a team name and name the repo \"SDS271-F23-[your-team-name]\"\n",
    "    \n",
    "Next, [add every member of the team to the repo](https://docs.github.com/en/account-and-profile/setting-up-and-managing-your-personal-account-on-github/managing-access-to-your-personal-repositories/inviting-collaborators-to-a-personal-repository).\n",
    "    \n",
    "Add Casey to your repo -- this is how you will turn in this assignment. Casey's GitHub username is @caseyberger\n",
    "\n",
    "Now, you're ready for the project.\n",
    "</div>"
   ]
  },
  {
   "cell_type": "markdown",
   "id": "db424a37-de4d-4f73-858a-f643a20f8190",
   "metadata": {},
   "source": [
    "## Project A"
   ]
  },
  {
   "cell_type": "markdown",
   "id": "29dca1b8-6731-4202-8bf0-91115aba2590",
   "metadata": {},
   "source": [
    "### Fit a curve and plot\n",
    "\n",
    "Now write a class that determines the relationship between altitude and temperature. It should:\n",
    "\n",
    "1. automatically read in the csv when initializing\n",
    "2. clean the data appropriately and return a new dataframe *Careful: be aware of units! You may need to create some new columns in your dataframe! Kelvin = Celsius + 273.15*\n",
    "3. fit the data to the line $T = - r h + T_0$ where $h$ is Altitude in km and $T$ is temperature in Kelvin\n",
    "  \n",
    "  Special hint for this part **when you define your fit function inside the class, put ```@staticmethod``` above the function definition** -- this allows ```curve_fit``` to use the fit function without errors. You can read more about static methods [here](https://www.digitalocean.com/community/tutorials/python-static-method) and I'm happy to explain where those errors come from another time!\n",
    " \n",
    "4. calculate (and return) the unknown parameter $r$ with error\n",
    "4. calculate (and return) the unknown parameter $T_0$ with error\n",
    "6. plot the data and the fit together on the same graph and label it appropriately"
   ]
  },
  {
   "cell_type": "code",
   "execution_count": 6,
   "id": "0656aa83",
   "metadata": {},
   "outputs": [],
   "source": [
    "import numpy as np\n",
    "import pandas as pd\n",
    "import matplotlib.pyplot as plt\n",
    "from scipy.optimize import curve_fit"
   ]
  },
  {
   "cell_type": "code",
   "execution_count": 17,
   "id": "14c03ac2",
   "metadata": {},
   "outputs": [
    {
     "data": {
      "text/plain": [
       "Index(['Unnamed: 0', 'Altitude (km)', 'Temperature (C)', 'Pressure (mb)'], dtype='object')"
      ]
     },
     "execution_count": 17,
     "metadata": {},
     "output_type": "execute_result"
    }
   ],
   "source": [
    "df = pd.read_csv('atm_data.csv')\n",
    "df.columns"
   ]
  },
  {
   "cell_type": "code",
   "execution_count": 41,
   "id": "f7b85341",
   "metadata": {},
   "outputs": [],
   "source": [
    "class Alt_Temp_Relationship:\n",
    "\n",
    "    def __init__(self): # Initialize the class\n",
    "        self.atm_data = pd.read_csv('atm_data.csv')\n",
    "        self.update_df = self.atm_data\n",
    "\n",
    "    # Static method defining the fit function\n",
    "    @staticmethod\n",
    "    def fit_function(h, r, T0):\n",
    "        return -r*h + T0 \n",
    "\n",
    "    def clean_data(self): #Cleans the data\n",
    "        # Drops any NaN values\n",
    "        self.update_df = self.atm_data.dropna()\n",
    "        \n",
    "        # Convert Celsius to Farenheit\n",
    "        self.update_df.loc[:,\"Temperature (K)\"] = self.update_df.loc[:,\"Temperature (C)\"] + 273.15 \n",
    "        \n",
    "        #return f'Are there any n/a values in this dataframe (T/F): {self.update_df.isnull().values.any()}'\n",
    "\n",
    "    def get_parameters(self, altitude, temp):   # Returns a dictionary of fitted parameters and their errors\n",
    "        param_dict = {}\n",
    "        params, cov = curve_fit(Alt_Temp_Relationship.fit_function, altitude, temp)\n",
    "#         perr = np.sqrt(np.diag(cov))\n",
    "        \n",
    "        param_dict['r'] = params[0]\n",
    "        param_dict['r_error'] = np.sqrt(cov[0][0])\n",
    "        param_dict['T0'] = params[1]\n",
    "        param_dict['T0_error'] = np.sqrt(cov[1][1])\n",
    "        \n",
    "        return param_dict\n",
    "\n",
    "    def plot_data(self):\n",
    "        # Plots the original data and the fitted curve\n",
    "        print(self.update_df)\n",
    "        x = self.update_df['Altitude (km)']\n",
    "        y = self.update_df['Temperature (K)']\n",
    "        param_dict = self.get_parameters(x, y)\n",
    "        Temp = -x * param_dict['r'] + param_dict['T0']\n",
    "        \n",
    "        print('T0 is ' + str(param_dict['T0']) + ' with an error of ' + str(param_dict['T0_error']))\n",
    "        print('r is ' + str(param_dict['r']) + ' with an error of ' + str(param_dict['r_error']))\n",
    "        \n",
    "        plt.scatter(x, y, color = \"teal\", marker = \"*\", s = 10, label=\"Data\")\n",
    "        plt.plot(x, Temp, color = \"darkblue\", label = \"Fit, y(x) = -6.49282709 + 288.15763374 km\")\n",
    "        plt.xlabel(\"Altitude (km)\", fontsize= 12)\n",
    "        plt.ylabel('Temperature (K)', fontsize= 12)\n",
    "        plt.show()"
   ]
  },
  {
   "cell_type": "code",
   "execution_count": 42,
   "id": "8d79d3f1",
   "metadata": {},
   "outputs": [
    {
     "name": "stderr",
     "output_type": "stream",
     "text": [
      "/var/folders/11/7y0lk5zj04d66cgkzd5shgv00000gn/T/ipykernel_10764/1968553989.py:17: SettingWithCopyWarning: \n",
      "A value is trying to be set on a copy of a slice from a DataFrame.\n",
      "Try using .loc[row_indexer,col_indexer] = value instead\n",
      "\n",
      "See the caveats in the documentation: https://pandas.pydata.org/pandas-docs/stable/user_guide/indexing.html#returning-a-view-versus-a-copy\n",
      "  self.update_df.loc[:,\"Temperature (K)\"] = self.update_df.loc[:,\"Temperature (C)\"] + 273.15\n"
     ]
    },
    {
     "name": "stdout",
     "output_type": "stream",
     "text": [
      "    Unnamed: 0  Altitude (km)  Temperature (C)  Pressure (mb)  Temperature (K)\n",
      "0            0            0.0             15.0        1013.25           288.15\n",
      "1            1            0.5             11.8         954.61           284.95\n",
      "2            2            1.0              8.5         898.76           281.65\n",
      "3            3            1.5              5.3         845.59           278.45\n",
      "4            4            2.0              2.0         795.01           275.15\n",
      "5            5            2.5             -1.2         746.91           271.95\n",
      "6            6            3.0             -4.5         701.21           268.65\n",
      "7            7            3.5             -7.7         657.80           265.45\n",
      "8            8            4.0            -11.0         616.60           262.15\n",
      "9            9            4.5            -14.2         577.52           258.95\n",
      "10          10            5.0            -17.5         540.48           255.65\n",
      "11          11            5.5            -20.7         505.39           252.45\n",
      "12          12            6.0            -23.9         472.17           249.25\n",
      "13          13            6.5            -27.2         440.75           245.95\n",
      "14          14            7.0            -30.5         411.05           242.65\n",
      "15          15            7.5            -33.7         382.99           239.45\n",
      "16          16            8.0            -36.9         356.51           236.25\n",
      "17          17            8.5            -40.2         331.54           232.95\n",
      "18          18            9.0            -43.4         308.00           229.75\n",
      "19          19            9.5            -46.7         285.84           226.45\n",
      "20          20           10.0            -49.9         264.99           223.25\n",
      "21          21           11.0            -56.4         226.99           216.75\n",
      "T0 is 288.15763374135963 with an error of 0.012253031866266697\n",
      "r is 6.492827088771739 with an error of 0.0019847388834237823\n"
     ]
    },
    {
     "data": {
      "image/png": "[encoded data removed]",
      "text/plain": [
       "<Figure size 640x480 with 1 Axes>"
      ]
     },
     "metadata": {},
     "output_type": "display_data"
    }
   ],
   "source": [
    "checking = Alt_Temp_Relationship()\n",
    "checking.clean_data()\n",
    "checking.plot_data()"
   ]
  },
  {
   "cell_type": "markdown",
   "id": "5455e6d9-d395-475e-a3c5-152b68998fa3",
   "metadata": {},
   "source": [
    "# Post-Lab: Production and Reflection"
   ]
  },
  {
   "cell_type": "markdown",
   "id": "d40d4ca5-7ecc-4c91-adb1-de6c53bda4bd",
   "metadata": {},
   "source": [
    "**Note: the instructions for this lab are different, so read carefully**\n",
    "\n",
    "When you are done with this lab, make sure your team has in its GitHub one JupyterNotebook, a README, and at least one.py file that contains the class you've written. The Jupyter Notebook should import your .py file(s) and walk through how you solved the problem given to you. The README should provide a brief overview of what is in the .py file(s) and how to use it(them). It should also include the problem prompt! Finally, the .py file(s) should be adequately commented.\n",
    "\n",
    "During class today, Casey will have added you to the SDS-271-F23 organization on GitHub and will have assigned your team a secret number and created a public repo for you in the organization. \n",
    "\n",
    "In this public repo, upload your README only. Then, make a copy of your .py files and **delete all the code, leaving only the comments. You may leave function definitions, but none of the code below them.** Upload this comments-only version of your .py file(s) to the public repo and add Casey to it.\n",
    "\n",
    "In addition, don't forget to fill out the <a href=\"https://forms.gle/nAJeHRedav8kPyCi8\"> post-lab reflection form</a>. "
   ]
  },
  {
   "cell_type": "code",
   "execution_count": null,
   "id": "395908e4-3c83-49b7-82f0-c5c2a36d521a",
   "metadata": {},
   "outputs": [],
   "source": []
  }
 ],
 "metadata": {
  "kernelspec": {
   "display_name": "Python 3 (ipykernel)",
   "language": "python",
   "name": "python3"
  },
  "language_info": {
   "codemirror_mode": {
    "name": "ipython",
    "version": 3
   },
   "file_extension": ".py",
   "mimetype": "text/x-python",
   "name": "python",
   "nbconvert_exporter": "python",
   "pygments_lexer": "ipython3",
   "version": "3.11.5"
  }
 },
 "nbformat": 4,
 "nbformat_minor": 5
}
